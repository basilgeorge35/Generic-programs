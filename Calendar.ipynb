{
 "cells": [
  {
   "cell_type": "markdown",
   "metadata": {
    "id": "vpwj1RpoJzSt"
   },
   "source": [
    "## 1.1)  Leap Year Checker"
   ]
  },
  {
   "cell_type": "code",
   "execution_count": 3,
   "metadata": {
    "id": "DAMLLBq9Hjp5"
   },
   "outputs": [],
   "source": [
    "def Calendar(y):\n",
    "  #Checks if year passed is a leap year using the formula and returs True if so and False otherwise\n",
    "\n",
    "  if ((y%4 == 0) and (y%100 != 0)) or ((y%400 == 0) and (y%3200 != 0)):\n",
    "    return True\n",
    "\n",
    "  else:\n",
    "    return False"
   ]
  },
  {
   "cell_type": "code",
   "execution_count": 4,
   "metadata": {
    "colab": {
     "base_uri": "https://localhost:8080/"
    },
    "id": "gMgiX4iTIcNn",
    "outputId": "13fc295c-b4ad-4379-e0e2-ea6b1fb068b8"
   },
   "outputs": [
    {
     "name": "stdout",
     "output_type": "stream",
     "text": [
      "Enter the year please: 2024\n",
      "2024  is a leap year!!\n"
     ]
    }
   ],
   "source": [
    "n = input(\"Enter the year please: \")\n",
    "x = Calendar(int(n))  # Returned Boolean value\n",
    "\n",
    "if x:\n",
    "  print(n,\" is a leap year!!\")\n",
    "else:\n",
    "  print(n,\" is not a leap year.\")"
   ]
  },
  {
   "cell_type": "markdown",
   "metadata": {
    "id": "pq4ZS5mIJ21F"
   },
   "source": [
    "##1.2) Day of Week checker"
   ]
  },
  {
   "cell_type": "code",
   "execution_count": 5,
   "metadata": {
    "id": "C5wLU5MUItH5"
   },
   "outputs": [],
   "source": [
    "def DOW(q, m, y):\n",
    "  \"\"\"\n",
    "  q denotes day of the month\n",
    "  m denoted month\n",
    "  y denotes year\n",
    "  \"\"\"\n",
    "  if (m < 3):\n",
    "    m = m + 12\n",
    "    y = y - 1\n",
    "\n",
    "  k = y%100\n",
    "  j = y//100\n",
    "\n",
    "  #Calculating day of week\n",
    "  h = (q + ((13*(m+1))//5) + k + (k//4) + (j//4) - (2*j)) % 7\n",
    "\n",
    "  #Converting it into ISO standard\n",
    "  d = (h + 5) % 7 + 1\n",
    "\n",
    "  return d"
   ]
  },
  {
   "cell_type": "code",
   "execution_count": 2,
   "metadata": {
    "colab": {
     "base_uri": "https://localhost:8080/"
    },
    "id": "dJ68y5iELP64",
    "outputId": "2f1b489e-2c00-45cf-f5bb-1c8a42540072"
   },
   "outputs": [
    {
     "name": "stdout",
     "output_type": "stream",
     "text": [
      "Enter the year: 2024\n",
      "Enter the month: 2\n",
      "Enter the date: 27\n",
      "The date 27/2/2024 corresponds to Tuesday in the week.\n"
     ]
    }
   ],
   "source": [
    "days = [\"Monday\", \"Tuesday\", \"Wednesday\", \"Thursday\", \"Friday\", \"Saturday\", \"Sunday\"]\n",
    "y = int(input(\"Enter the year: \"))\n",
    "m = int(input(\"Enter the month: \"))\n",
    "q = int(input(\"Enter the date: \"))\n",
    "print(\"The date {}/{}/{} corresponds to {} in the week.\".format(q,m,y,days[(DOW(q,m,y) - 1)]))"
   ]
  },
  {
   "cell_type": "markdown",
   "metadata": {
    "id": "74kqhmqyOCdM"
   },
   "source": [
    "##1.3) Print Calendar of year"
   ]
  },
  {
   "cell_type": "code",
   "execution_count": 12,
   "metadata": {
    "colab": {
     "base_uri": "https://localhost:8080/"
    },
    "id": "bZZc1a_fLavP",
    "outputId": "fc147ced-8bfe-42f1-fcfc-7b13b7a4f89b"
   },
   "outputs": [
    {
     "name": "stdout",
     "output_type": "stream",
     "text": [
      "         Jan 2024\n",
      "Mon Tue Wed Thu Fri Sat Sun\n",
      "  1   2   3   4   5   6   7 \n",
      "  8   9  10  11  12  13  14 \n",
      " 15  16  17  18  19  20  21 \n",
      " 22  23  24  25  26  27  28 \n",
      " 29  30  31 \n",
      "\n",
      "\n",
      "         Feb 2024\n",
      "Mon Tue Wed Thu Fri Sat Sun\n",
      "              1   2   3   4 \n",
      "  5   6   7   8   9  10  11 \n",
      " 12  13  14  15  16  17  18 \n",
      " 19  20  21  22  23  24  25 \n",
      " 26  27  28  29 \n",
      "\n",
      "\n",
      "         Mar 2024\n",
      "Mon Tue Wed Thu Fri Sat Sun\n",
      "                  1   2   3 \n",
      "  4   5   6   7   8   9  10 \n",
      " 11  12  13  14  15  16  17 \n",
      " 18  19  20  21  22  23  24 \n",
      " 25  26  27  28  29  30  31 \n",
      "\n",
      "\n",
      "\n",
      "         Apr 2024\n",
      "Mon Tue Wed Thu Fri Sat Sun\n",
      "  1   2   3   4   5   6   7 \n",
      "  8   9  10  11  12  13  14 \n",
      " 15  16  17  18  19  20  21 \n",
      " 22  23  24  25  26  27  28 \n",
      " 29  30 \n",
      "\n",
      "\n",
      "         May 2024\n",
      "Mon Tue Wed Thu Fri Sat Sun\n",
      "          1   2   3   4   5 \n",
      "  6   7   8   9  10  11  12 \n",
      " 13  14  15  16  17  18  19 \n",
      " 20  21  22  23  24  25  26 \n",
      " 27  28  29  30  31 \n",
      "\n",
      "\n",
      "         Jun 2024\n",
      "Mon Tue Wed Thu Fri Sat Sun\n",
      "                      1   2 \n",
      "  3   4   5   6   7   8   9 \n",
      " 10  11  12  13  14  15  16 \n",
      " 17  18  19  20  21  22  23 \n",
      " 24  25  26  27  28  29  30 \n",
      "\n",
      "\n",
      "\n",
      "         Jul 2024\n",
      "Mon Tue Wed Thu Fri Sat Sun\n",
      "  1   2   3   4   5   6   7 \n",
      "  8   9  10  11  12  13  14 \n",
      " 15  16  17  18  19  20  21 \n",
      " 22  23  24  25  26  27  28 \n",
      " 29  30  31 \n",
      "\n",
      "\n",
      "         Aug 2024\n",
      "Mon Tue Wed Thu Fri Sat Sun\n",
      "              1   2   3   4 \n",
      "  5   6   7   8   9  10  11 \n",
      " 12  13  14  15  16  17  18 \n",
      " 19  20  21  22  23  24  25 \n",
      " 26  27  28  29  30  31 \n",
      "\n",
      "\n",
      "         Sep 2024\n",
      "Mon Tue Wed Thu Fri Sat Sun\n",
      "                          1 \n",
      "  2   3   4   5   6   7   8 \n",
      "  9  10  11  12  13  14  15 \n",
      " 16  17  18  19  20  21  22 \n",
      " 23  24  25  26  27  28  29 \n",
      " 30 \n",
      "\n",
      "\n",
      "         Oct 2024\n",
      "Mon Tue Wed Thu Fri Sat Sun\n",
      "      1   2   3   4   5   6 \n",
      "  7   8   9  10  11  12  13 \n",
      " 14  15  16  17  18  19  20 \n",
      " 21  22  23  24  25  26  27 \n",
      " 28  29  30  31 \n",
      "\n",
      "\n",
      "         Nov 2024\n",
      "Mon Tue Wed Thu Fri Sat Sun\n",
      "                  1   2   3 \n",
      "  4   5   6   7   8   9  10 \n",
      " 11  12  13  14  15  16  17 \n",
      " 18  19  20  21  22  23  24 \n",
      " 25  26  27  28  29  30 \n",
      "\n",
      "\n",
      "         Dec 2024\n",
      "Mon Tue Wed Thu Fri Sat Sun\n",
      "                          1 \n",
      "  2   3   4   5   6   7   8 \n",
      "  9  10  11  12  13  14  15 \n",
      " 16  17  18  19  20  21  22 \n",
      " 23  24  25  26  27  28  29 \n",
      " 30  31 \n",
      "\n",
      "\n"
     ]
    }
   ],
   "source": [
    "#Function to find the number of days in a given month of a year\n",
    "def num_days(year, month):\n",
    "    if month == 1:\n",
    "        return 29 if Calendar(year) else 28\n",
    "    elif month in [3, 5, 8, 10]:\n",
    "        return 30\n",
    "    else:\n",
    "        return 31\n",
    "\n",
    "#Function to print the calendar\n",
    "def print_calendar(year):\n",
    "    months_of_year = [\"Jan\", \"Feb\", \"Mar\", \"Apr\", \"May\", \"Jun\", \"Jul\", \"Aug\", \"Sep\", \"Oct\", \"Nov\", \"Dec\"]\n",
    "    month = 0\n",
    "    #Loop to iterate through the 12 months in a year\n",
    "    while (month < 12):\n",
    "      print(\"{:>17}\".format((months_of_year[month]+ \" \" + str(year))))  #Print Month name and year in required format\n",
    "      print(\"Mon Tue Wed Thu Fri Sat Sun\")                              #Print days of the week in required format\n",
    "      i = DOW(1, (month+1), year) - 1                                   #Finding the starting day of the month\n",
    "      print(\"    \" * i, end='')                                         #Empty space for preceeding days of the week\n",
    "\n",
    "      for day in range(1, num_days(year, month) + 1):                   #Looping through weeks of the month and printing them\n",
    "          print(\"{:3}\".format(day), end=' ')\n",
    "          if ((day + i) % 7 == 0):                                      #End of week checker\n",
    "              print()\n",
    "      print(\"\\n\\n\")\n",
    "      month = month + 1                                                 #Next month\n",
    "\n",
    "print_calendar(2024)\n"
   ]
  }
 ],
 "metadata": {
  "colab": {
   "provenance": []
  },
  "kernelspec": {
   "display_name": "Python 3 (ipykernel)",
   "language": "python",
   "name": "python3"
  },
  "language_info": {
   "codemirror_mode": {
    "name": "ipython",
    "version": 3
   },
   "file_extension": ".py",
   "mimetype": "text/x-python",
   "name": "python",
   "nbconvert_exporter": "python",
   "pygments_lexer": "ipython3",
   "version": "3.10.9"
  }
 },
 "nbformat": 4,
 "nbformat_minor": 1
}
